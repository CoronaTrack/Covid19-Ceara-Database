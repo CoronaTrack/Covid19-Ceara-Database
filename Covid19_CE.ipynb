{
 "cells": [
  {
   "cell_type": "code",
   "execution_count": 47,
   "metadata": {},
   "outputs": [],
   "source": [
    "import requests\n",
    "from bs4 import BeautifulSoup\n",
    "from pathlib import Path\n",
    "import pandas as pd\n",
    "import tabula\n",
    "from datetime import datetime\n"
   ]
  },
  {
   "cell_type": "code",
   "execution_count": 29,
   "metadata": {},
   "outputs": [
    {
     "data": {
      "text/plain": [
       "283956"
      ]
     },
     "execution_count": 29,
     "metadata": {},
     "output_type": "execute_result"
    }
   ],
   "source": [
    "url = 'https://coronavirus.ceara.gov.br/boletins/'\n",
    "\n",
    "html = requests.get(url)\n",
    "soup = BeautifulSoup(html.text, 'html.parser')\n",
    "\n",
    "link = soup.find_all('div', 'et_pb_button_0_wrapper')[0].find('a').attrs['href']\n",
    "\n",
    "filename = Path('covid19_ce.pdf')\n",
    "response = requests.get(link)\n",
    "filename.write_bytes(response.content)"
   ]
  },
  {
   "cell_type": "code",
   "execution_count": 62,
   "metadata": {},
   "outputs": [],
   "source": [
    "tabula.convert_into(\"covid19_ce.pdf\", \"covid19_ce.csv\", output_format=\"csv\", pages='all')\n",
    "\n",
    "df = pd.read_csv('covid19_ce.csv')\n"
   ]
  },
  {
   "cell_type": "code",
   "execution_count": 63,
   "metadata": {},
   "outputs": [
    {
     "data": {
      "text/plain": [
       "datetime.date(2020, 3, 22)"
      ]
     },
     "execution_count": 63,
     "metadata": {},
     "output_type": "execute_result"
    }
   ],
   "source": [
    "date = link.split('/')[-1].split('_')\n",
    "\n",
    "date = date[3] + '/' + date[4] + '/' + date[5]+'20'\n",
    "\n",
    "date = datetime.strptime(date, '%d/%m/%Y').date()\n",
    "\n",
    "date"
   ]
  },
  {
   "cell_type": "code",
   "execution_count": 64,
   "metadata": {},
   "outputs": [],
   "source": [
    "df = df.T.reset_index(drop=True).T\n",
    "df = df.drop([0,1])\n",
    "df = df.iloc[ :,1:]\n",
    "\n",
    "df.drop([3,4], axis=1, inplace=True)\n",
    "\n",
    "df.dropna(inplace=True)\n",
    "df = df.rename(columns={1:'MUNICIO', 2:'CONFIRMADOR', 5:'OBITOS'})\n",
    "\n",
    "df['DATETIME'] = date\n",
    "\n",
    "df.to_csv('covid19_ce.csv')"
   ]
  }
 ],
 "metadata": {
  "kernelspec": {
   "display_name": "Python 3",
   "language": "python",
   "name": "python3"
  },
  "language_info": {
   "codemirror_mode": {
    "name": "ipython",
    "version": 3
   },
   "file_extension": ".py",
   "mimetype": "text/x-python",
   "name": "python",
   "nbconvert_exporter": "python",
   "pygments_lexer": "ipython3",
   "version": "3.6.9"
  }
 },
 "nbformat": 4,
 "nbformat_minor": 2
}
